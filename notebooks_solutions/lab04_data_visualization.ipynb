{
 "cells": [
  {
   "cell_type": "markdown",
   "metadata": {},
   "source": [
    "## Install a package from a different conda channel\n",
    "\n",
    "### If you had issues installing ydata-profiling previously\n",
    "\n",
    "Open a terminal (Anaconda Terminal) and run the following commands.\n",
    "\n",
    "*If you are using a custom conda environment, run this first:*\n",
    "\n",
    "    conda activate <ENV_NAME>\n",
    "    \n",
    "Then:\n",
    "\n",
    "    conda install -c conda-forge ydata-profiling==4.5.0 -y\n",
    "    \n",
    "OR from a jupyter cell:\n",
    "\n",
    "    !conda install -c conda-forge ydata-profiling==4.5.0 -y\n",
    "\n",
    "OR if conda doesn't work:\n",
    "\n",
    "    !pip install -U ydata-profiling\n",
    "\n",
    "\n",
    "- The `<ENV_NAME>` refers to the name of the environment you'll be working with for this project\n",
    "- The `!` indicates a terminal command\n",
    "- The `-c` flag indicates the channel we're using to get the package\n",
    "- The `-y` flag indicates that we're confirming the installation of pandas-profiling and its dependencies a priori\n",
    "\n",
    "We're installing `ydata-profiling` through this method because Anaconda's `default` channel contains an outdated version of this package, whereas the channel `conda-forge` has an updated version.\n"
   ]
  },
  {
   "cell_type": "code",
   "execution_count": null,
   "metadata": {},
   "outputs": [],
   "source": [
    "# Remember: library imports are ALWAYS at the top of the script, no exceptions!\n",
    "import sqlite3\n",
    "import os\n",
    "import pandas as pd\n",
    "import numpy as np\n",
    "import matplotlib.pyplot as plt\n",
    "import seaborn as sns\n",
    "from math import ceil\n",
    "\n",
    "from itertools import product\n",
    "\n",
    "## If you have an error here saying ydata_profiling is not available\n",
    "## Run the instructions above\n",
    "## IF you are still unable to install `ydata-profiling` through this method, \n",
    "## Comment out the line below importing ProfileReport\n",
    "from ydata_profiling import ProfileReport\n",
    "\n",
    "# for better resolution plots\n",
    "%config InlineBackend.figure_format = 'retina' # optionally, you can change 'svg' to 'retina'\n",
    "\n",
    "# Setting seaborn style\n",
    "sns.set()"
   ]
  },
  {
   "cell_type": "code",
   "execution_count": null,
   "metadata": {},
   "outputs": [],
   "source": []
  },
  {
   "cell_type": "markdown",
   "metadata": {},
   "source": [
    "# Context\n",
    "The data we will be using through the pratical classes comes from a small relational database whose schema can be seen below:\n",
    "![alt text](../figures/schema.png \"Relation database schema\")"
   ]
  },
  {
   "cell_type": "markdown",
   "metadata": {},
   "source": [
    "# Reading the Data"
   ]
  },
  {
   "cell_type": "code",
   "execution_count": null,
   "metadata": {},
   "outputs": [],
   "source": [
    "# path to database\n",
    "my_path = os.path.join(\"..\", \"data\", \"datamining.db\")\n",
    "\n",
    "# connect to the database\n",
    "conn = sqlite3.connect(my_path)\n",
    "\n",
    "# the query\n",
    "query = \"\"\"\n",
    "select\n",
    "    age, \n",
    "    income, \n",
    "    frq, \n",
    "    rcn, \n",
    "    mnt, \n",
    "    clothes, \n",
    "    kitchen, \n",
    "    small_appliances, \n",
    "    toys, \n",
    "    house_keeping,\n",
    "    dependents, \n",
    "    per_net_purchase,\n",
    "    g.gender, \n",
    "    e.education, \n",
    "    m.status, \n",
    "    r.description\n",
    "from customers as c\n",
    "    join genders as g on g.id = c.gender_id\n",
    "    join education_levels as e on e.id = c.education_id\n",
    "    join marital_status as m on m.id = c.marital_status_id\n",
    "    join recommendations as r on r.id = c.recommendation_id\n",
    "order by c.id;\n",
    "\"\"\"\n",
    "\n",
    "df = pd.read_sql_query(query, conn)"
   ]
  },
  {
   "cell_type": "markdown",
   "metadata": {},
   "source": [
    "# Metadata\n",
    "- *id* - The unique identifier of the customer\n",
    "- *age* - The year of birht of the customer\n",
    "- *income* - The income of the customer\n",
    "- *frq* - Frequency: number of purchases made by the customer\n",
    "- *rcn* - Recency: number of days since last customer purchase\n",
    "- *mnt* - Monetary: amount of € spent by the customer in purchases\n",
    "- *clothes* - Number of clothes items purchased by the customer\n",
    "- *kitchen* - Number of kitchen items purchased by the customer\n",
    "- *small_appliances* - Number of small_appliances items purchased by the customer\n",
    "- *toys* - Number of toys items purchased by the customer\n",
    "- *house_keeping* - Number of house_keeping items purchased by the customer\n",
    "- *dependents* - Binary. Whether or not the customer has dependents\n",
    "- *per_net_purchase* - Percentage of purchases made online\n",
    "- *education* - Education level of the customer\n",
    "- *status* - Marital status of the customer\n",
    "- *gender* - Gender of the customer\n",
    "- *description* - Last customer's recommendation description"
   ]
  },
  {
   "cell_type": "markdown",
   "metadata": {},
   "source": [
    "# Initial Analysis\n",
    "\n",
    "Pandas user guide: https://pandas.pydata.org/pandas-docs/stable/user_guide/index.html\n",
    "\n",
    "Pandas 10 min tutorial: https://pandas.pydata.org/pandas-docs/stable/user_guide/10min.html"
   ]
  },
  {
   "cell_type": "markdown",
   "metadata": {},
   "source": [
    "## Potential Problems:\n",
    "- Duplicates?\n",
    "- Data types?\n",
    "- Missing values?\n",
    "- Strange values?\n",
    "- Descriptive statistics?"
   ]
  },
  {
   "cell_type": "markdown",
   "metadata": {},
   "source": [
    "### Insights from previous notebook:\n",
    "\n",
    "- Duplicates?\n",
    "    - We didn't find any\n",
    "- Data types?\n",
    "    - `income` was being recognized as `object` (empty strings)\n",
    "    - `dependents` was being recognized as `object` (empty strings)\n",
    "- Missing values?\n",
    "    - replaced empty strings '\"\"' with `np.nan` to reflect that these were missing values\n",
    "- Strange values?\n",
    "    - `education` has `OldSchool` category\n",
    "- Descriptive statistics?\n",
    "    - We explored this in detail\n"
   ]
  },
  {
   "cell_type": "markdown",
   "metadata": {},
   "source": [
    "### Replicating modifications from previous notebook"
   ]
  },
  {
   "cell_type": "code",
   "execution_count": null,
   "metadata": {},
   "outputs": [],
   "source": [
    "# replace \"\" by nans\n",
    "df.replace(\"\", np.nan, inplace=True)\n",
    "\n",
    "# count of missing values\n",
    "df.isna().sum()"
   ]
  },
  {
   "cell_type": "code",
   "execution_count": null,
   "metadata": {},
   "outputs": [],
   "source": [
    "# fix wrong dtypes\n",
    "df.dependents = df.dependents.astype(\"boolean\")  # converting to \"boolean\" over \"bool\" allows preservation of NaNs"
   ]
  },
  {
   "cell_type": "code",
   "execution_count": null,
   "metadata": {},
   "outputs": [],
   "source": [
    "# check dataset data types again\n",
    "df.dtypes"
   ]
  },
  {
   "cell_type": "code",
   "execution_count": null,
   "metadata": {},
   "outputs": [],
   "source": [
    "# check descriptive statistics again\n",
    "df.describe(include=\"all\").T"
   ]
  },
  {
   "cell_type": "markdown",
   "metadata": {},
   "source": [
    "# Visual Exploration\n",
    "\n",
    "Matplotlib tutorials: https://matplotlib.org/stable/tutorials/index.html\n",
    "\n",
    "Matplotlib gallery: https://matplotlib.org/stable/gallery/index.html\n",
    "\n",
    "Seaborn tutorials: https://seaborn.pydata.org/tutorial.html\n",
    "\n",
    "\n",
    "Seaborn gallery: https://seaborn.pydata.org/examples/index.html\n",
    "\n",
    "### Matplotlib vs Seaborn:\n",
    "\n",
    "**Matplotlib** - lower level. allows to fully customize the plot appearance\n",
    "\n",
    "**Seaborn** - higher level. Complex off-the-shelf plots with one line. Matplotlib on steroids\n"
   ]
  },
  {
   "cell_type": "code",
   "execution_count": null,
   "metadata": {},
   "outputs": [],
   "source": [
    "#Define metric and non-metric features. Why?\n",
    "non_metric_features = [\"education\", \"status\", \"gender\", \"dependents\", \"description\"]\n",
    "metric_features = df.columns.drop(non_metric_features).to_list()\n",
    "\n",
    "######## OR ########\n",
    "# metric_features = ['age', 'income', 'frq', 'rcn', 'mnt', \n",
    "#                    'clothes', 'kitchen', 'small_appliances', 'toys', 'house_keeping', \n",
    "#                    'per_net_purchase']\n"
   ]
  },
  {
   "cell_type": "markdown",
   "metadata": {},
   "source": [
    "## Pyplot-style vs Object-Oriented-style\n",
    "- Explicitly create figures and axes, and call methods on them (the \"object-oriented (OO) style\").\n",
    "- Rely on pyplot to automatically create and manage the figures and axes, and use pyplot functions for plotting.\n",
    "\n",
    "More details: https://matplotlib.org/matplotblog/posts/pyplot-vs-object-oriented-interface/"
   ]
  },
  {
   "cell_type": "markdown",
   "metadata": {},
   "source": [
    "## Numeric Variables' Univariate Distribution"
   ]
  },
  {
   "cell_type": "code",
   "execution_count": null,
   "metadata": {},
   "outputs": [],
   "source": [
    "# Single Metric Variable Histogram\n",
    "plt.hist(df[\"age\"], bins=10)  # mess around with the bins\n",
    "plt.title(\"age\", y=-0.2)\n",
    "\n",
    "plt.show()"
   ]
  },
  {
   "cell_type": "code",
   "execution_count": null,
   "metadata": {},
   "outputs": [],
   "source": [
    "## Why change bins?\n",
    "\n",
    "##########################################\n",
    "## NO NEED to understand this code, this just generates some random numbers ##############\n",
    "##########################################\n",
    "\n",
    "rng = np.random.default_rng(84038410067234)\n",
    "\n",
    "rn_size=500\n",
    "rn_bins=8\n",
    "rn_loc=1.75\n",
    "\n",
    "hist_data = np.concatenate([rng.normal(loc=rn_loc, size=rn_size).round(5),\n",
    "                            rng.normal(loc=-rn_loc, size=rn_size).round(5)])\n",
    "##########################################\n",
    "\n",
    "\n",
    "fig, axes = plt.subplots(2,1,figsize=(8,4), sharex=True, tight_layout=True)\n",
    "\n",
    "sns.histplot(hist_data, \n",
    "             ax=axes[0],\n",
    "             bins=5, ## This is the only thing we change\n",
    "             )\n",
    "sns.histplot(hist_data, \n",
    "             ax=axes[1],\n",
    "             bins=20, ## This is the only thing we change\n",
    "            )\n",
    "\n",
    "axes[0].set_title('bins=5', ha='left', x=.8, y=.7, fontsize='x-large')\n",
    "axes[1].set_title('bins=20', ha='left', x=.8, y=.7, fontsize='x-large')\n",
    "\n",
    "plt.show()"
   ]
  },
  {
   "cell_type": "code",
   "execution_count": null,
   "metadata": {},
   "outputs": [],
   "source": [
    "## plot histogram for income, compare with the histogram of age\n",
    "\n",
    "# Single Metric Variable Histogram\n",
    "plt.hist(df[\"income\"], bins=10)\n",
    "plt.title(\"income\", y=-0.2)\n",
    "\n",
    "plt.show()"
   ]
  },
  {
   "cell_type": "code",
   "execution_count": null,
   "metadata": {},
   "outputs": [],
   "source": [
    "## BONUS: use seaborn scatterplot\n",
    "\n",
    "sns.histplot(df[\"income\"], bins=50)  # mess around with the bins\n",
    "plt.show()"
   ]
  },
  {
   "cell_type": "code",
   "execution_count": null,
   "metadata": {},
   "outputs": [],
   "source": [
    "## Do this for mnt and frq\n",
    "## CHALLENGE: Plot both in the same figure\n",
    "## HINT: Use subplots\n",
    "\n",
    "sns.set()\n",
    "\n",
    "subplot_rows = 1\n",
    "subplot_cols = 2\n",
    "subplot_figsize = (8,4) # (width, height)\n",
    "\n",
    "fig, axes = plt.subplots(subplot_rows, \n",
    "                         subplot_cols, \n",
    "                         figsize=subplot_figsize\n",
    "                        )\n",
    "\n",
    "## Do something here\n",
    "\n",
    "## 1. HINT: use axes[i].hist() instead of plt.hist()\n",
    "axes[0].hist(df['mnt'])\n",
    "axes[1].hist(df['frq'])\n",
    "\n",
    "## 2. HINT: don't forget to label each subplot!\n",
    "axes[0].set_title('axes[0]: df[\"mnt\"]') ## What should the title be?\n",
    "axes[0].set_xlabel('euros spent') ## What should the title be?\n",
    "\n",
    "axes[1].set_title('axes[1]: df[\"frq\"]') ## What should the title be?\n",
    "axes[1].set_xlabel('number of visits') ## What should the title be?\n",
    "\n",
    "\n",
    "plt.show()"
   ]
  },
  {
   "cell_type": "markdown",
   "metadata": {},
   "source": [
    "### How can we improve our visualizations?\n",
    "\n",
    "Remember Lecture discussion: Session 4, slide 22\n",
    "\n",
    "\n",
    "**Remove chart-junk, increase data-ink**\n",
    "\n",
    "\n",
    "\n",
    "\n",
    "https://seaborn.pydata.org/tutorial/aesthetics.html"
   ]
  },
  {
   "cell_type": "code",
   "execution_count": null,
   "metadata": {},
   "outputs": [],
   "source": [
    "## plot histogram for income, test different seaborn themes\n",
    "\n",
    "##########################################\n",
    "## NO NEED to understand this code\n",
    "##########################################\n",
    "\n",
    "seaborn_styles = [\"darkgrid\", \"white\", \"ticks\", \"whitegrid\"]\n",
    "\n",
    "f = plt.figure(figsize=(12, 3))\n",
    "gs = f.add_gridspec(1, 4)\n",
    "\n",
    "for (style_i, sns_style) in enumerate(seaborn_styles):\n",
    "\n",
    "    with sns.axes_style(sns_style):\n",
    "        ax = f.add_subplot(gs[0, style_i])\n",
    "        \n",
    "        ax.hist(df[\"income\"], bins=10)\n",
    "        ax.set_title('sns.set_style(\"{}\")'.format(sns_style))\n",
    "\n",
    "f.tight_layout()\n",
    "\n",
    "\n",
    "plt.show()"
   ]
  },
  {
   "cell_type": "markdown",
   "metadata": {},
   "source": [
    "You can also optimize for the context in which you are using your visualizations:\n",
    "\n",
    "https://seaborn.pydata.org/tutorial/aesthetics.html#scaling-plot-elements\n"
   ]
  },
  {
   "cell_type": "code",
   "execution_count": null,
   "metadata": {},
   "outputs": [],
   "source": [
    "## plot histogram for income, test different seaborn themes\n",
    "\n",
    "##########################################\n",
    "## NO NEED to understand this code\n",
    "##########################################\n",
    "\n",
    "sns.set() ## Reset to darkgrid\n",
    "\n",
    "seaborn_ctx = [\"paper\", \"notebook\", \"talk\", \"poster\"]\n",
    "\n",
    "f = plt.figure(figsize=(6, 12))\n",
    "gs = f.add_gridspec(4, 1)\n",
    "\n",
    "for (ctx_i, sns_ctx) in enumerate(seaborn_ctx):\n",
    "    sns.set_context(sns_ctx)\n",
    "\n",
    "    ax = f.add_subplot(gs[ctx_i,0])\n",
    "\n",
    "    ax.hist(df[\"income\"], bins=10)\n",
    "    ax.set_title('sns.set_context(\"{}\")'.format(sns_ctx))\n",
    "\n",
    "f.tight_layout()\n",
    "\n",
    "\n",
    "plt.show()"
   ]
  },
  {
   "cell_type": "code",
   "execution_count": null,
   "metadata": {},
   "outputs": [],
   "source": [
    "sns.set() ## Reset to darkgrid"
   ]
  },
  {
   "cell_type": "markdown",
   "metadata": {},
   "source": [
    "Using seaborn to set the style also changes the non-seaborn plot styles:"
   ]
  },
  {
   "cell_type": "code",
   "execution_count": null,
   "metadata": {},
   "outputs": [],
   "source": [
    "## Try it here: \n",
    "sns.set_style(\"whitegrid\")\n",
    "\n",
    "plt.hist(df[\"income\"], bins=10)\n",
    "plt.title(\"income\", y=-0.2)\n",
    "\n",
    "plt.show()"
   ]
  },
  {
   "cell_type": "code",
   "execution_count": null,
   "metadata": {},
   "outputs": [],
   "source": [
    "## using seaborn histplot:\n",
    "sns.set_style(\"ticks\")\n",
    "\n",
    "sns.histplot(df[\"income\"], bins=10)\n",
    "\n",
    "\n",
    "plt.show()"
   ]
  },
  {
   "cell_type": "code",
   "execution_count": null,
   "metadata": {},
   "outputs": [],
   "source": [
    "# Plot ALL Numeric Variables' Histograms in one figure\n",
    "\n",
    "sns.set() ## Reset to darkgrid\n",
    "\n",
    "sp_rows = 2\n",
    "sp_cols = 6\n",
    "\n",
    "\n",
    "# Prepare figure. Create individual axes where each histogram will be placed\n",
    "fig, axes = plt.subplots(sp_rows, \n",
    "                         sp_cols, \n",
    "                         figsize=(20, 11),\n",
    "                         tight_layout=True\n",
    "                        )\n",
    "\n",
    "# Plot data\n",
    "# Iterate across axes objects and associate each histogram (hint: use the ax.hist() instead of plt.hist()):\n",
    "for ax, feat in zip(axes.flatten(), metric_features): # Notice the zip() function and flatten() method\n",
    "    ax.hist(df[feat])\n",
    "    ax.set_title(feat, y=-0.13)\n",
    "    \n",
    "# Layout\n",
    "# Add a centered title to the figure:\n",
    "title = \"Numeric Variables' Histograms\"\n",
    "\n",
    "plt.suptitle(title)\n",
    "\n",
    "if not os.path.exists(os.path.join('..', 'figures', 'eda')):\n",
    "    # if the exp_analysis directory is not present then create it first\n",
    "    os.makedirs(os.path.join('..', 'figures', 'eda'))\n",
    "    \n",
    "plt.savefig(os.path.join('..', 'figures', 'eda', 'numeric_variables_histograms.png'), dpi=200)\n",
    "\n",
    "plt.show()"
   ]
  },
  {
   "cell_type": "code",
   "execution_count": null,
   "metadata": {},
   "outputs": [],
   "source": [
    "# Single Metric Variable Box Plot\n",
    "sns.boxplot(x=df[\"age\"])\n",
    "\n",
    "plt.show()"
   ]
  },
  {
   "cell_type": "code",
   "execution_count": null,
   "metadata": {},
   "outputs": [],
   "source": [
    "# Single Metric Variable Box Plot\n",
    "# Use a different seaborn style, then visualize boxplot for 'mnt'\n",
    "sns.set_style('whitegrid')\n",
    "sns.boxplot(x=df[\"mnt\"])\n",
    "\n",
    "plt.show()\n"
   ]
  },
  {
   "cell_type": "code",
   "execution_count": null,
   "metadata": {},
   "outputs": [],
   "source": [
    "# Plot ALL Numeric Variables' Boxplots in one figure\n",
    "\n",
    "sns.set() ## Reset to darkgrid\n",
    "\n",
    "## What do these do?\n",
    "sp_rows = 2\n",
    "sp_cols = ceil(len(metric_features) / sp_rows)\n",
    "\n",
    "\n",
    "# Prepare figure. Create individual axes where each boxplot will be placed\n",
    "fig, axes = plt.subplots(sp_rows, \n",
    "                         sp_cols, \n",
    "                         figsize=(20, 11),\n",
    "                         tight_layout=True\n",
    "                        )\n",
    "\n",
    "# Plot data\n",
    "# Iterate across axes objects and associate each boxplot. Hint: don't forget to attach the boxplot to the current ax\n",
    "for ax, feat in zip(axes.flatten(), metric_features): # Notice the zip() function and flatten() method\n",
    "    sns.boxplot(x=df[feat], ax=ax)\n",
    "    \n",
    "# Layout\n",
    "# Add a centered title to the figure:\n",
    "title = \"Numeric Variables' Box Plots\"\n",
    "\n",
    "plt.suptitle(title)\n",
    "\n",
    "if not os.path.exists(os.path.join('..', 'figures', 'eda')):\n",
    "    # if the eda directory is not present then create it first\n",
    "    os.makedirs(os.path.join('..', 'figures', 'eda'))\n",
    "\n",
    "\n",
    "plt.savefig(os.path.join('..', 'figures', 'eda', 'numeric_variables_boxplots.png'), dpi=200)\n",
    "\n",
    "\n",
    "plt.show()"
   ]
  },
  {
   "cell_type": "markdown",
   "metadata": {},
   "source": [
    "What information can we extract from the plots above?"
   ]
  },
  {
   "cell_type": "markdown",
   "metadata": {},
   "source": [
    "### Insights:\n",
    "- univariate distributions\n",
    "- potential univariate outliers\n",
    "\n",
    "--------------------------------------"
   ]
  },
  {
   "cell_type": "code",
   "execution_count": null,
   "metadata": {},
   "outputs": [],
   "source": []
  },
  {
   "cell_type": "markdown",
   "metadata": {},
   "source": [
    "# More Visualizations: Bivariate Analysis"
   ]
  },
  {
   "cell_type": "markdown",
   "metadata": {},
   "source": [
    "## Pairwise Relationship of Numerical Variables"
   ]
  },
  {
   "cell_type": "markdown",
   "metadata": {},
   "source": [
    "### Scatter Plots"
   ]
  },
  {
   "cell_type": "code",
   "execution_count": null,
   "metadata": {},
   "outputs": [],
   "source": [
    "# Pair of Metric Variables Scatter Plot\n",
    "\n",
    "plt.scatter(df[\"age\"], df[\"income\"])\n",
    "plt.xlabel(\"age\")\n",
    "plt.ylabel(\"income\")\n",
    "\n",
    "plt.show()\n",
    "\n",
    "# Is this useful? \n",
    "# How can we improve this visualization?\n"
   ]
  },
  {
   "cell_type": "code",
   "execution_count": null,
   "metadata": {},
   "outputs": [],
   "source": [
    "# Pair of Metric Variables Scatter Plot\n",
    "\n",
    "plt.scatter(df[\"age\"], df[\"income\"], \n",
    "            edgecolors=\"white\", # Draw the edges of each point\n",
    "            alpha=.5, # change opacity level of each point\n",
    "           )\n",
    "\n",
    "\n",
    "plt.xlabel(\"age\")\n",
    "plt.ylabel(\"income\")\n",
    "\n",
    "plt.show()\n",
    "\n",
    "# Is this useful? \n",
    "# How can we improve this visualization?\n"
   ]
  },
  {
   "cell_type": "code",
   "execution_count": null,
   "metadata": {},
   "outputs": [],
   "source": [
    "# Pair of Metric Variables Scatter Plot\n",
    "\n",
    "plt.scatter(df[\"age\"], df[\"income\"], \n",
    "            edgecolors=\"black\", # Draw the edges of each point\n",
    "            alpha=.5, # change opacity level of each point\n",
    "            color='none' # remove the fill color of each point\n",
    "           )\n",
    "\n",
    "\n",
    "plt.xlabel(\"age\")\n",
    "plt.ylabel(\"income\")\n",
    "\n",
    "plt.show()\n",
    "\n",
    "# Is this useful? \n",
    "# How can we improve this visualization?\n"
   ]
  },
  {
   "cell_type": "code",
   "execution_count": null,
   "metadata": {},
   "outputs": [],
   "source": [
    "# Pair of Metric Variables Hexbin Plot\n",
    "\n",
    "sns.set_style('ticks')\n",
    "\n",
    "fig, ax = plt.subplots()\n",
    "\n",
    "hb = ax.hexbin(df[\"age\"], df[\"income\"], \n",
    "                gridsize=20)\n",
    "\n",
    "ax.set_title(\"Hexagon binning for age and income\")\n",
    "cb = fig.colorbar(hb, ax=ax, label='counts')\n",
    "\n",
    "plt.show()\n",
    "\n",
    "# Is this useful? \n",
    "# How can we improve this visualization?\n"
   ]
  },
  {
   "cell_type": "markdown",
   "metadata": {},
   "source": [
    "#### Exercise\n",
    "\n",
    "Improve the previous hexbin (original code already copied below)\n",
    "\n",
    "Specify a custom color using the cmap parameter: `cmap=\"\"`\n",
    "\n",
    "\n",
    "**HINT** see default colormaps from matplotlib here: https://matplotlib.org/stable/users/explain/colors/colormaps.html"
   ]
  },
  {
   "cell_type": "code",
   "execution_count": null,
   "metadata": {},
   "outputs": [],
   "source": [
    "## Improve the colors used here\n",
    "\n",
    "# Pair of Metric Variables Hexbin Plot\n",
    "\n",
    "sns.set_style('ticks')\n",
    "\n",
    "fig, ax = plt.subplots()\n",
    "\n",
    "hb = ax.hexbin(df[\"age\"], df[\"income\"], \n",
    "               gridsize=20,\n",
    "               cmap='Greys'\n",
    "              )\n",
    "\n",
    "ax.set_title(\"Hexagon binning for age and income\")\n",
    "cb = fig.colorbar(hb, ax=ax, label='counts')\n",
    "\n",
    "plt.show()\n",
    "\n",
    "# Is this useful? \n",
    "# How can we improve this visualization?\n"
   ]
  },
  {
   "cell_type": "code",
   "execution_count": null,
   "metadata": {},
   "outputs": [],
   "source": [
    "# Using seaborn jointplot\n",
    "\n",
    "sns.set(style=\"ticks\")\n",
    "sns.jointplot(data=df, x=\"age\", y=\"income\", kind=\"hex\", )\n",
    "plt.show()\n",
    "\n"
   ]
  },
  {
   "cell_type": "markdown",
   "metadata": {},
   "source": [
    "#### Exercise\n",
    "\n",
    "Create a jointplot with age on the x-axis, and frq on the y-axis\n",
    "\n",
    "Specify a custom color using the color parameter: `color=\"\"`\n",
    "\n",
    "\n",
    "**HINT** see default colormaps from matplotlib here: https://matplotlib.org/stable/users/explain/colors/colormaps.html"
   ]
  },
  {
   "cell_type": "code",
   "execution_count": null,
   "metadata": {},
   "outputs": [],
   "source": []
  },
  {
   "cell_type": "code",
   "execution_count": null,
   "metadata": {},
   "outputs": [],
   "source": [
    "## Exercise:\n",
    "## Create a jointplot with age on the x-axis, and clothes on the y-axis\n",
    "## Specify a custom color using the color parameter: color=\"\"\n",
    "\n",
    "sns.set(style=\"white\")\n",
    "sns.jointplot(data=df, x=\"age\", y=\"frq\", kind=\"hex\", color='blue')\n",
    "plt.show()\n"
   ]
  },
  {
   "cell_type": "markdown",
   "metadata": {},
   "source": [
    "#### ALL the scatterplots in one figure\n",
    "\n",
    "This figure will take some time to run"
   ]
  },
  {
   "cell_type": "code",
   "execution_count": null,
   "metadata": {},
   "outputs": [],
   "source": [
    "# Pairwise Relationship of Numerical Variables\n",
    "sns.set()\n",
    "\n",
    "# Setting pairplot\n",
    "sns.pairplot(df[metric_features], diag_kind=\"hist\")\n",
    "\n",
    "# Layout\n",
    "plt.subplots_adjust(top=0.95)\n",
    "plt.suptitle(\"Pairwise Relationship of Numerical Variables\", fontsize=20)\n",
    "\n",
    "# if the eda directory is not present then create it first\n",
    "if not os.path.exists(os.path.join('..', 'figures', 'eda')):\n",
    "    os.makedirs(os.path.join('..', 'figures', 'eda'))\n",
    "    \n",
    "plt.savefig(os.path.join('..', 'figures', 'eda', 'pairwise_numeric_scatterplots.png'), dpi=200)\n",
    "plt.show()"
   ]
  },
  {
   "cell_type": "code",
   "execution_count": null,
   "metadata": {},
   "outputs": [],
   "source": []
  },
  {
   "cell_type": "markdown",
   "metadata": {},
   "source": [
    "#### Metric Variables' Correlation Matrix"
   ]
  },
  {
   "cell_type": "code",
   "execution_count": null,
   "metadata": {},
   "outputs": [],
   "source": [
    "# Prepare figure\n",
    "fig = plt.figure(figsize=(10, 8))\n",
    "\n",
    "# Obtain correlation matrix. \n",
    "corr = df[metric_features].corr(method=\"pearson\")\n",
    "\n",
    "# Plot heatmap of the correlation matrix\n",
    "sns.heatmap(data=corr, annot=True, )\n",
    "\n",
    "\n",
    "plt.show()\n",
    "\n",
    "## How can we improve this figure?"
   ]
  },
  {
   "cell_type": "code",
   "execution_count": null,
   "metadata": {},
   "outputs": [],
   "source": [
    "# Obtain correlation matrix. \n",
    "corr = df[metric_features].corr(method=\"pearson\")\n",
    "\n",
    "##########\n",
    "## 1. Round the values of the correlation matrix to 2 decimal places.\n",
    "##    Hint: use .round()\n",
    "corr = df[metric_features].corr(method=\"pearson\").round(2)\n",
    "##########\n",
    "\n",
    "\n"
   ]
  },
  {
   "cell_type": "code",
   "execution_count": null,
   "metadata": {},
   "outputs": [],
   "source": [
    "##########\n",
    "## 2. Show only VERY high or VERY low values\n",
    "##    Build annotation matrix: only values above |0.5| will appear annotated in the plot\n",
    "##########\n",
    "\n",
    "mask_annot = np.absolute(corr.values) >= 0.5 ## What does this look like?\n",
    "annot = np.where(mask_annot, corr.values, np.full(corr.shape,\"\")) # Try to understand what this np.where() does\n",
    "\n",
    "\n"
   ]
  },
  {
   "cell_type": "code",
   "execution_count": null,
   "metadata": {},
   "outputs": [],
   "source": [
    "## Let's break this down:\n",
    "\n",
    "# mask_annot\n",
    "# corr.values\n",
    "# np.full(corr.shape,\"\")"
   ]
  },
  {
   "cell_type": "code",
   "execution_count": null,
   "metadata": {},
   "outputs": [],
   "source": [
    "##########\n",
    "## Putting it all together\n",
    "##########\n",
    "\n",
    "# Prepare figure\n",
    "fig = plt.figure(figsize=(12, 8))\n",
    "\n",
    "\n",
    "##########\n",
    "## 3a. Adjust minimum, maximum, and center values of the color scale \n",
    "##     Why? HINT: What are the range of values you expect with correlations?\n",
    "## 3b. Show cells as squares, add line borders for aesthetics\n",
    "## 3c. Choose better colormap: Why?\n",
    "##########\n",
    "\n",
    "\n",
    "# Plot heatmap of the correlation matrix\n",
    "sns.heatmap(data=corr, \n",
    "            annot=annot, # Specify custom annotation\n",
    "            fmt='s', # The annotation matrix now has strings, so we need to explicitly say this\n",
    "            \n",
    "            ########## 3a.\n",
    "            vmin=-1, vmax=1, center=0,\n",
    "            ########## 3b.\n",
    "            square=True, linewidths=.5,\n",
    "            ########## 3c.\n",
    "            cmap='PiYG'\n",
    "    \n",
    "           )\n",
    "\n",
    "## Once you are happy, save this as an image\n",
    "plt.savefig(os.path.join('..', 'figures', 'eda', 'correlation_matrix.png'), dpi=200)\n",
    "\n",
    "plt.show()\n",
    "\n",
    "## How can we improve this figure?"
   ]
  },
  {
   "cell_type": "markdown",
   "metadata": {},
   "source": [
    "#### Exercise\n",
    "\n",
    "Show only the lower triangle of the correlation matrix. *Why?*"
   ]
  },
  {
   "cell_type": "markdown",
   "metadata": {},
   "source": [
    "### Insights\n",
    "- possible bivariate relationships\n",
    "- potential bivariate outliers\n",
    "- univariate distributions (diagonal)"
   ]
  },
  {
   "cell_type": "markdown",
   "metadata": {},
   "source": [
    "### A note on correlation coefficients\n",
    "\n",
    "It is not enough to only look at the values of correlation between variables.\n",
    "\n",
    "Remember `age` and `small_appliances`? "
   ]
  },
  {
   "cell_type": "code",
   "execution_count": null,
   "metadata": {},
   "outputs": [],
   "source": [
    "sns.set(style=\"white\")\n",
    "fig, ax = plt.subplots()\n",
    "cat1 = 'age'\n",
    "cat2 = 'small_appliances'\n",
    "\n",
    "hb = ax.hexbin(df[cat1], df[cat2], \n",
    "               gridsize=20,\n",
    "               cmap='Greys'\n",
    "              )\n",
    "\n",
    "ax.set_title(\"{} and {},\\ncorr = {}\".format(cat1, cat2, \n",
    "                                            np.round(df[['age','small_appliances']].corr().values[0,1],4)))\n",
    "ax.set_xlabel(cat1)\n",
    "ax.set_ylabel(cat2)\n",
    "\n",
    "cb = fig.colorbar(hb, ax=ax, label='counts')\n",
    "\n",
    "plt.show()\n",
    "\n"
   ]
  },
  {
   "cell_type": "markdown",
   "metadata": {},
   "source": [
    "## Categorical/Low Cardinality Variables' Absolute Frequencies"
   ]
  },
  {
   "cell_type": "code",
   "execution_count": null,
   "metadata": {},
   "outputs": [],
   "source": [
    "# Single Non-Metric variable bar plot\n",
    "sns.set() # this resets our formatting defaults\n",
    "sns.countplot(x=df[\"education\"])\n",
    "\n",
    "plt.show()\n",
    "\n",
    "# How can we improve this figure?"
   ]
  },
  {
   "cell_type": "markdown",
   "metadata": {},
   "source": [
    "Try choosing a custom `color` such as \"blue\" or \"red\" or \"orange\"\n",
    "\n",
    "Alternatively, you can get values for custom RGB codes for any given color here: https://www.w3schools.com/colors/colors_picker.asp\n",
    "\n",
    "Any other color picker will do just as well\n"
   ]
  },
  {
   "cell_type": "code",
   "execution_count": null,
   "metadata": {},
   "outputs": [],
   "source": [
    "# Format the color of a simple bar chart\n",
    "\n",
    "sns.countplot(x=df[\"education\"], color='#619b8a')\n",
    "plt.show()\n",
    "\n",
    "# How can we improve this figure?"
   ]
  },
  {
   "cell_type": "markdown",
   "metadata": {},
   "source": [
    "### Exercise\n",
    "\n",
    "Show the above figure with the bars sorted from largest to smallest. Do this in an automatic way.\n",
    "\n",
    "`countplot` documentation:\n",
    "\n",
    "https://seaborn.pydata.org/generated/seaborn.countplot.html\n",
    "\n",
    "*Hints*\n",
    "\n",
    "- `countplot` has an `order` parameter.\n",
    "- `df.value_counts()`: https://pandas.pydata.org/docs/reference/api/pandas.DataFrame.value_counts.html"
   ]
  },
  {
   "cell_type": "code",
   "execution_count": null,
   "metadata": {},
   "outputs": [],
   "source": [
    "df['education'].value_counts(ascending=False)\n"
   ]
  },
  {
   "cell_type": "code",
   "execution_count": null,
   "metadata": {},
   "outputs": [],
   "source": [
    "df['education'].value_counts(ascending=False).index"
   ]
  },
  {
   "cell_type": "code",
   "execution_count": null,
   "metadata": {},
   "outputs": [],
   "source": [
    "## Sort the bars from largest to smallest\n",
    "\n",
    "sns.countplot(x=df[\"education\"],\n",
    "              ## Do this in an automatic way\n",
    "              order=df['education'].value_counts(ascending=False).index\n",
    "             )\n",
    "plt.show()\n",
    "\n",
    "# How can we improve this figure?"
   ]
  },
  {
   "cell_type": "markdown",
   "metadata": {},
   "source": [
    "What information can we extract from the plot above?\n",
    "\n",
    "**Using the same logic from the multiple box plot figure above, build a multiple bar plot figure for each non-metric variable:**"
   ]
  },
  {
   "cell_type": "code",
   "execution_count": null,
   "metadata": {},
   "outputs": [],
   "source": [
    "## Remember:\n",
    "\n",
    "non_metric_features"
   ]
  },
  {
   "cell_type": "code",
   "execution_count": null,
   "metadata": {},
   "outputs": [],
   "source": []
  },
  {
   "cell_type": "code",
   "execution_count": null,
   "metadata": {},
   "outputs": [],
   "source": [
    "# Remember: dependents has nan values, which cause errors when trying to plot. \n",
    "df.dependents.unique()\n",
    "\n"
   ]
  },
  {
   "cell_type": "code",
   "execution_count": null,
   "metadata": {},
   "outputs": [],
   "source": [
    "print('Percentage of rows with dependents missing:')\n",
    "\n",
    "np.round(df['dependents'].isna().sum()/df.shape[0]*100, 2)\n"
   ]
  },
  {
   "cell_type": "code",
   "execution_count": null,
   "metadata": {},
   "outputs": [],
   "source": [
    "# For now, we convert dependents to string and replace the missing values with the string 'NAN'. \n",
    "# Remember to use df_deps instead of df for visualizing in this section\n",
    "\n",
    "df_deps = df.copy()\n",
    "df_deps['dependents'] = df_deps['dependents'].astype('str')\n"
   ]
  },
  {
   "cell_type": "code",
   "execution_count": null,
   "metadata": {},
   "outputs": [],
   "source": [
    "# All Non-Metric Variables' Absolute Frequencies\n",
    "sns.set()\n",
    "\n",
    "# Prepare figure. Create individual axes where each bar plot will be placed\n",
    "fig, axes = plt.subplots(2, ceil(len(non_metric_features) / 2), figsize=(20, 11))\n",
    "\n",
    "# Plot data\n",
    "# Iterate across axes objects and associate each bar plot (hint: use the ax argument):\n",
    "for ax, feat in zip(axes.flatten(), non_metric_features): # Notice the zip() function and flatten() method\n",
    "    # What should be here?\n",
    "    # pass # placeholder to avoid errors when running; remove this\n",
    "    sns.countplot(x=df_deps[feat], ax=ax)\n",
    "\n",
    "title = \"Categorical Variables' Absolute Counts\"\n",
    "plt.suptitle(title)\n",
    "\n",
    "plt.savefig(os.path.join('..', 'figures', 'eda', 'categorical_variables_counts.png'), dpi=200)\n",
    "plt.show()"
   ]
  },
  {
   "cell_type": "markdown",
   "metadata": {},
   "source": [
    "### Insights:\n",
    "- low frequency values\n",
    "- high cardinality"
   ]
  },
  {
   "cell_type": "markdown",
   "metadata": {},
   "source": [
    "### Comparing two categorical variables"
   ]
  },
  {
   "cell_type": "code",
   "execution_count": null,
   "metadata": {
    "id": "KX0saRlGMqOn"
   },
   "outputs": [],
   "source": [
    "cat1 = 'description'\n",
    "cat2 = 'gender'\n",
    "\n",
    "catpc_df = df.groupby([cat1, cat2])[cat2].size().unstack()\n",
    "\n",
    "catpc_df.plot.bar(stacked=True)\n",
    "\n",
    "\n",
    "plt.show()\n",
    "\n",
    "# Let's break this down"
   ]
  },
  {
   "cell_type": "code",
   "execution_count": null,
   "metadata": {},
   "outputs": [],
   "source": [
    "# Let's break this down\n",
    "\n",
    "cat1 = 'description'\n",
    "cat2 = 'gender'\n",
    "\n",
    "\n",
    "df.groupby([cat1, cat2])[cat2].size()"
   ]
  },
  {
   "cell_type": "code",
   "execution_count": null,
   "metadata": {},
   "outputs": [],
   "source": [
    "df.groupby([cat1, cat2])[cat2].size().unstack()"
   ]
  },
  {
   "cell_type": "code",
   "execution_count": null,
   "metadata": {},
   "outputs": [],
   "source": [
    "df.groupby([cat1, cat2])[cat2].size().unstack().plot.bar(stacked=True)\n",
    "\n",
    "plt.show()\n",
    "\n",
    "# How can we improve this figure?"
   ]
  },
  {
   "cell_type": "code",
   "execution_count": null,
   "metadata": {},
   "outputs": [],
   "source": [
    "# Using seaborn\n",
    "\n",
    "# sns.countplot does not have stacked option\n",
    "sns.countplot(df, x=\"description\", hue=\"gender\")\n",
    "\n",
    "plt.show()"
   ]
  },
  {
   "cell_type": "markdown",
   "metadata": {},
   "source": [
    "#### Exercise\n",
    "\n",
    "Plot the relative counts of the bar plots\n",
    "\n",
    "*Hint* How do we calculate the relative percentage of `dependents` for each category of `description`?\n",
    "\n",
    "\n",
    "In this case, we want a full bar for each description category. Using the `Horrible` category for example:\n",
    "```\n",
    "description      gender\n",
    "Horrible         F           14\n",
    "                 M           27\n",
    "```\n",
    "\n",
    "We want:\n",
    "- the `gender=F` part to be `14/(14+27) %` of the bar, and \n",
    "- the `gender=M` part to be `27/(14+27) %` of the bar.\n",
    "\n"
   ]
  },
  {
   "cell_type": "code",
   "execution_count": null,
   "metadata": {},
   "outputs": [],
   "source": [
    "# Remember:\n",
    "df.groupby([cat1, cat2])[cat2].size().unstack()"
   ]
  },
  {
   "cell_type": "code",
   "execution_count": null,
   "metadata": {},
   "outputs": [],
   "source": [
    "# Here we want the counts of each description category:\n",
    "# What should be here?\n",
    "\n",
    "df[cat1].value_counts()"
   ]
  },
  {
   "cell_type": "code",
   "execution_count": null,
   "metadata": {},
   "outputs": [],
   "source": [
    "# Putting it all together:\n",
    "\n",
    "cat1 = 'description'\n",
    "cat2 = 'gender'\n",
    "\n",
    "# Many ways to do this\n",
    "catpc_df = df.groupby([cat1, cat2])[cat2].size() / df.groupby([cat1])[cat2].size() \n",
    "\n",
    "catpc_df.unstack().plot.bar(stacked=True)\n",
    "\n",
    "\n",
    "plt.show()"
   ]
  },
  {
   "cell_type": "code",
   "execution_count": null,
   "metadata": {},
   "outputs": [],
   "source": [
    "# What about description vs education?\n",
    "\n",
    "cat1 = 'description'\n",
    "cat2 = 'education'\n",
    "\n",
    "fig, axes = plt.subplots(1,2, figsize=(12,4))\n",
    "\n",
    "catpc_df = df.groupby([cat1, cat2])[cat2].size().unstack()\n",
    "catpc_df.plot.bar(stacked=True, ax=axes[0])\n",
    "axes[0].set_title('Description vs Education, Absolute counts')\n",
    "axes[0].legend([], frameon=False) # hide legend on right subplot\n",
    "\n",
    "catpc_df2 = df.groupby([cat1, cat2])[cat2].size() / df.groupby([cat1])[cat2].size() \n",
    "catpc_df2.unstack().plot.bar(stacked=True, ax=axes[1])\n",
    "axes[1].set_title('Description vs Education, Relative counts')\n",
    "axes[1].legend(loc=(1.02,0)) # reposition legend on right subplot\n",
    "\n",
    "plt.show()\n",
    "\n",
    "\n",
    "plt.show()"
   ]
  },
  {
   "cell_type": "code",
   "execution_count": null,
   "metadata": {},
   "outputs": [],
   "source": [
    "# What about description vs education? \n",
    "# This time flip the two\n",
    "\n",
    "cat1 = 'education'\n",
    "cat2 = 'description'\n",
    "\n",
    "fig, axes = plt.subplots(1,2, figsize=(12,4))\n",
    "\n",
    "catpc_df = df.groupby([cat1, cat2])[cat2].size().unstack()\n",
    "catpc_df.plot.bar(stacked=True, ax=axes[0])\n",
    "axes[0].legend([], frameon=False)\n",
    "axes[0].set_title('Education vs Description, Absolute counts')\n",
    "\n",
    "catpc_df2 = df.groupby([cat1, cat2])[cat2].size() / df.groupby([cat1])[cat2].size() \n",
    "\n",
    "catpc_df2.unstack().plot.bar(stacked=True, ax=axes[1])\n",
    "axes[1].set_title('Education vs Description, Relative counts')\n",
    "axes[1].legend(loc=(1.01,0))\n",
    "\n",
    "plt.show()\n",
    "\n",
    "\n",
    "plt.show()"
   ]
  },
  {
   "cell_type": "markdown",
   "metadata": {},
   "source": [
    "## Comparing a categorical variable vs continuous (or discrete) variables"
   ]
  },
  {
   "cell_type": "markdown",
   "metadata": {},
   "source": [
    "### Scatterplots"
   ]
  },
  {
   "cell_type": "markdown",
   "metadata": {},
   "source": [
    "Using seaborn, plot scatterplot of `age` vs `frq`\n",
    "\n",
    "Use use the 'hue' parameter to color each point according to values of `gender`"
   ]
  },
  {
   "cell_type": "code",
   "execution_count": null,
   "metadata": {},
   "outputs": [],
   "source": [
    "sns.scatterplot(df,\n",
    "                x=\"age\",\n",
    "                y=\"frq\", \n",
    "                alpha=.5,\n",
    "                hue='gender',\n",
    "               )\n",
    "\n",
    "\n",
    "plt.show()\n",
    "\n",
    "# Is this useful? \n",
    "# How can we improve this visualization?\n"
   ]
  },
  {
   "cell_type": "markdown",
   "metadata": {},
   "source": [
    "### Density plots"
   ]
  },
  {
   "cell_type": "markdown",
   "metadata": {},
   "source": [
    "Now try with seaborn kdeplot"
   ]
  },
  {
   "cell_type": "code",
   "execution_count": null,
   "metadata": {},
   "outputs": [],
   "source": [
    "# Try seaborn kdeplot\n",
    "\n",
    "sns.kdeplot(df,\n",
    "            x=\"age\",\n",
    "            y=\"frq\",            \n",
    "            hue='gender')\n",
    "\n",
    "plt.show()"
   ]
  },
  {
   "cell_type": "markdown",
   "metadata": {},
   "source": [
    "Now try these with `hue='dependents'`"
   ]
  },
  {
   "cell_type": "code",
   "execution_count": null,
   "metadata": {},
   "outputs": [],
   "source": [
    "# sns.scatterplot with hue='dependents'\n",
    "\n",
    "sns.scatterplot(df_deps,\n",
    "                x=\"age\",\n",
    "                y=\"frq\", \n",
    "                alpha=.5,\n",
    "                hue='dependents',\n",
    "               )\n",
    "\n",
    "\n",
    "plt.show()\n",
    "\n",
    "# Is this useful? \n",
    "# How can we improve this visualization?\n"
   ]
  },
  {
   "cell_type": "code",
   "execution_count": null,
   "metadata": {},
   "outputs": [],
   "source": [
    "# sns.kdeplot with hue='dependents'\n",
    "\n",
    "sns.kdeplot(df_deps,\n",
    "            x=\"age\",\n",
    "            y=\"frq\",            \n",
    "            hue='dependents',)\n",
    "\n",
    "plt.show()"
   ]
  },
  {
   "cell_type": "code",
   "execution_count": null,
   "metadata": {},
   "outputs": [],
   "source": []
  },
  {
   "cell_type": "markdown",
   "metadata": {},
   "source": [
    "### Histograms"
   ]
  },
  {
   "cell_type": "code",
   "execution_count": null,
   "metadata": {},
   "outputs": [],
   "source": [
    "# Plot ALL Numeric Variables' Histograms in one figure\n",
    "\n",
    "sns.set() ## Reset to darkgrid\n",
    "\n",
    "sp_rows = 2\n",
    "sp_cols = 6\n",
    "\n",
    "\n",
    "# Prepare figure. Create individual axes where each histogram will be placed\n",
    "fig, axes = plt.subplots(sp_rows, \n",
    "                         sp_cols, \n",
    "                         figsize=(20, 11))\n",
    "\n",
    "# Plot data\n",
    "for ax, feat in zip(axes.flatten(), metric_features): \n",
    "    sns.histplot(df_deps, x=feat, ax=ax, bins=10, hue='dependents')\n",
    "    \n",
    "# Layout\n",
    "title = \"Numeric Variables' Histograms\"\n",
    "\n",
    "plt.suptitle(title)\n",
    "\n",
    "plt.show()"
   ]
  },
  {
   "cell_type": "markdown",
   "metadata": {},
   "source": [
    "#### Exercise\n",
    "\n",
    "Do this with `gender`"
   ]
  },
  {
   "cell_type": "code",
   "execution_count": null,
   "metadata": {},
   "outputs": [],
   "source": [
    "## Do this with gender\n",
    "\n",
    "# Plot ALL Numeric Variables' Histograms in one figure\n",
    "\n",
    "sns.set() ## Reset to darkgrid\n",
    "\n",
    "sp_rows = 2\n",
    "sp_cols = 6\n",
    "\n",
    "\n",
    "# Prepare figure. Create individual axes where each histogram will be placed\n",
    "fig, axes = plt.subplots(sp_rows, \n",
    "                         sp_cols, \n",
    "                         figsize=(20, 11))\n",
    "\n",
    "# Plot data\n",
    "for ax, feat in zip(axes.flatten(), metric_features): \n",
    "    sns.histplot(df, x=feat, ax=ax, bins=10, hue='gender')\n",
    "    \n",
    "# Layout\n",
    "title = \"Numeric Variables' Histograms\"\n",
    "\n",
    "plt.suptitle(title)\n",
    "\n",
    "plt.show()"
   ]
  },
  {
   "cell_type": "markdown",
   "metadata": {},
   "source": [
    "### Pairplot"
   ]
  },
  {
   "cell_type": "code",
   "execution_count": null,
   "metadata": {},
   "outputs": [],
   "source": [
    "# Pairwise Relationship of Numerical Variables\n",
    "sns.set()\n",
    "\n",
    "# Setting pairplot\n",
    "sns.pairplot(df[metric_features + ['gender']], diag_kind=\"hist\", hue='gender')\n",
    "\n",
    "# Layout\n",
    "plt.suptitle(\"Pairwise Relationship of Numerical Variables\", fontsize=20)\n",
    "\n",
    "plt.show()"
   ]
  },
  {
   "cell_type": "markdown",
   "metadata": {},
   "source": [
    "### Three-way ANOVA\n",
    "\n",
    "Another example of visualization. Although it is not a simple visualization to produce, it can be very informative.\n",
    "\n",
    "https://seaborn.pydata.org/examples/pointplot_anova.html\n",
    "\n",
    "Documentation of `pointplot()`: https://seaborn.pydata.org/generated/seaborn.pointplot.html#seaborn.pointplot"
   ]
  },
  {
   "cell_type": "code",
   "execution_count": null,
   "metadata": {},
   "outputs": [],
   "source": [
    "non_metric_features"
   ]
  },
  {
   "cell_type": "code",
   "execution_count": null,
   "metadata": {},
   "outputs": [],
   "source": [
    "# We filter only those with dependents not missing\n",
    "xfeat = 'dependents'\n",
    "huefeat='gender'\n",
    "df_viz = df.loc[~df[xfeat].isna()]\n",
    "educ_vals = df_viz.education.dropna().unique()\n",
    "\n",
    "fig, axes = plt.subplots(1,len(educ_vals), figsize=(16,4), tight_layout=True, sharey=True)\n",
    "\n",
    "for (axi, educ_i) in zip(axes, educ_vals):\n",
    "    data_ = df_viz.loc[df_viz['education']==educ_i]\n",
    "    sns.pointplot(data=data_, \n",
    "              y='mnt', \n",
    "              x=xfeat, \n",
    "              hue=huefeat, \n",
    "              errorbar='sd',\n",
    "              linestyles=[\"-\", \"--\"],\n",
    "              capsize=.1,\n",
    "              ax=axi\n",
    "              )\n",
    "\n",
    "    axi.legend([], frameon=False)\n",
    "    axi.set_title(educ_i)\n",
    "\n",
    "axes[-1].legend(loc=(1.02,.5), title=huefeat, handlelength=6)\n",
    "\n",
    "fig.suptitle(\"Three-way ANOVA\\nmnt, education, dependents, gender\")\n",
    "plt.show()"
   ]
  },
  {
   "cell_type": "code",
   "execution_count": null,
   "metadata": {},
   "outputs": [],
   "source": [
    "# We filter only those with dependents not missing\n",
    "xfeat = 'dependents'\n",
    "df_viz = df.loc[~df[xfeat].isna()]\n",
    "\n",
    "\n",
    "# notice we drop missing values in order to not plot it as a distinct value\n",
    "educ_vals = df_viz.education.dropna().unique()\n",
    "\n",
    "\n",
    "fig, axes = plt.subplots(\n",
    "                len(metric_features), # number of rows of subplots\n",
    "                len(educ_vals),       # number of cols of subplots\n",
    "                figsize=(25,30),      # size of figure\n",
    "                tight_layout=True,\n",
    "                sharey=\"row\")\n",
    "\n",
    "for ax, (feat, educ_deg) in zip(axes.flatten(), product(metric_features, educ_vals)):\n",
    "    # get the data for each subplot\n",
    "    data = df_viz[df_viz.education == educ_deg].copy()\n",
    "    data[xfeat] = data[xfeat].astype(str)\n",
    "    \n",
    "    # we are distinguishing points according to the variable \"dependents\"\n",
    "    sns.pointplot(x=xfeat, y=feat, \n",
    "                  hue=\"gender\", hue_order=[\"F\", \"M\"],\n",
    "                  errorbar='sd',\n",
    "                  data=data, \n",
    "                  capsize=.1,\n",
    "                  linestyles=[\"-\", \"--\"],\n",
    "                  ax=ax)\n",
    "\n",
    "    # don't show all the legends\n",
    "    ax.legend('', frameon=False)\n",
    "\n",
    "    # set the x labels and legend of each axis\n",
    "    ax.set_xlabel(xfeat)\n",
    "    ax.set_title(educ_deg, fontsize=16, y=.8)\n",
    "    \n",
    "\n",
    "\n",
    "# set metric names\n",
    "for ax, label in zip(axes[:,0], metric_features):\n",
    "    ax.set_ylabel(label, fontsize=13)\n",
    "\n",
    "\n",
    "# set figure title\n",
    "plt.suptitle(\"Three-way ANOVA for each metric variable\", fontsize=25, y=1)\n",
    "\n",
    "# Set legend (gender)\n",
    "handles, _ = axes[0,0].get_legend_handles_labels()\n",
    "fig.legend(handles, [\"F\",\"M\"], loc=\"upper right\", title=\"Gender\", title_fontsize=13, ncols=2, handlelength=6)\n",
    "fig.subplots_adjust(hspace=.5)\n",
    "\n",
    "plt.show()"
   ]
  },
  {
   "cell_type": "markdown",
   "metadata": {},
   "source": [
    "# A tool to assist you through your exploratory data analysis\n",
    "\n",
    "Optionally, you may use `pandas-profiling` as a first approach to your data analysis. Remember, although this tool provides excelent insights about the data you're working with, it is not enough to perform a proper analysis."
   ]
  },
  {
   "cell_type": "code",
   "execution_count": null,
   "metadata": {},
   "outputs": [],
   "source": [
    "profile = ProfileReport(\n",
    "    df, \n",
    "    title='Tugas Customer Data',\n",
    "    correlations={\n",
    "        \"pearson\": {\"calculate\": True},\n",
    "        \"spearman\": {\"calculate\": False},\n",
    "        \"kendall\": {\"calculate\": False},\n",
    "        \"phi_k\": {\"calculate\": False},\n",
    "        \"cramers\": {\"calculate\": False},\n",
    "    },\n",
    ")"
   ]
  },
  {
   "cell_type": "code",
   "execution_count": null,
   "metadata": {},
   "outputs": [],
   "source": [
    "profile.to_notebook_iframe()"
   ]
  },
  {
   "cell_type": "code",
   "execution_count": null,
   "metadata": {},
   "outputs": [],
   "source": [
    "profile.to_file(os.path.join('..', 'figures', \"eda\", \"tugas_customer_data.html\"))"
   ]
  },
  {
   "cell_type": "code",
   "execution_count": null,
   "metadata": {},
   "outputs": [],
   "source": []
  },
  {
   "cell_type": "markdown",
   "metadata": {},
   "source": [
    "# Optional Exercise\n",
    "\n",
    "Download the [Spaceship Titanic dataset](https://www.kaggle.com/competitions/spaceship-titanic/data). Using the  `train.csv` file, perform the same exercises that we did in this notebook.\n",
    "\n",
    "Identify the metric and non-metric features in this dataset.\n",
    "\n",
    "Identify if any problems exist:\n",
    "\n",
    "- Duplicates?\n",
    "- Data types?\n",
    "- Missing values?\n",
    "- Strange values?\n",
    "- Descriptive statistics?\n",
    "\n",
    "\n",
    "Visualize the different variables present in this dataset. Are there any interesting relationships present? \n",
    "\n"
   ]
  },
  {
   "cell_type": "markdown",
   "metadata": {},
   "source": [
    "# Tools and resources for better visualizations\n",
    "\n",
    "https://www.simplifiedsciencepublishing.com/resources/best-color-palettes-for-scientific-figures-and-data-visualizations\n",
    "\n",
    "https://python-graph-gallery.com/\n",
    "\n",
    "https://www.visualcinnamon.com/ (Tutorials are mostly in JavaScript and R, but very good aesthetics)\n"
   ]
  },
  {
   "cell_type": "code",
   "execution_count": null,
   "metadata": {},
   "outputs": [],
   "source": []
  },
  {
   "cell_type": "markdown",
   "metadata": {},
   "source": [
    "# During our Exploratory Data Analysis (EDA), we must also account for:\n",
    "- Incoherencies\n",
    "- Outliers\n",
    "- Missing values\n",
    "- Feature Engineering"
   ]
  },
  {
   "cell_type": "markdown",
   "metadata": {},
   "source": [
    "# Questions?\n"
   ]
  },
  {
   "cell_type": "markdown",
   "metadata": {},
   "source": [
    "# NEXT Notebook: Data Preprocessing"
   ]
  },
  {
   "cell_type": "markdown",
   "metadata": {},
   "source": [
    "## Depending on the context, various steps must be considered when performing Data Preprocessing. \n",
    "\n",
    "The most relevant steps are the following:\n",
    "- Coherence check (find inconsistent values, missing values, outliers and any other problem you may find in your dataset)\n",
    "- Data editing (fix inconsistent values)\n",
    "- Data cleansing (drop observations - Outlier removal and removal of inconsistent values and/or features)\n",
    "- Data wrangling (feature extraction/engineering and transformation)\n",
    "- Data reduction (reducing the dimensionality of a dataset, producing summary statistics, reducing the number of records in a dataset)"
   ]
  },
  {
   "cell_type": "code",
   "execution_count": null,
   "metadata": {},
   "outputs": [],
   "source": []
  }
 ],
 "metadata": {
  "interpreter": {
   "hash": "ac7e543e3dc0a459e5fc74c7d4413fcaeb35c3e687aaed9aa2b436df8f882b43"
  },
  "kernelspec": {
   "display_name": "Python 3",
   "language": "python",
   "name": "python3"
  },
  "language_info": {
   "codemirror_mode": {
    "name": "ipython",
    "version": 3
   },
   "file_extension": ".py",
   "mimetype": "text/x-python",
   "name": "python",
   "nbconvert_exporter": "python",
   "pygments_lexer": "ipython3",
   "version": "3.8.5"
  },
  "widgets": {
   "application/vnd.jupyter.widget-state+json": {
    "state": {},
    "version_major": 2,
    "version_minor": 0
   }
  }
 },
 "nbformat": 4,
 "nbformat_minor": 4
}
